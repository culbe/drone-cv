{
 "cells": [
  {
   "cell_type": "code",
   "execution_count": null,
   "id": "bde543b5-857b-443a-aff7-9dc0c0551b9a",
   "metadata": {},
   "outputs": [],
   "source": [
    "#Import packages\n",
    "import cv2\n",
    "import os\n",
    "import torch\n",
    "import numpy as np\n",
    "from skimage import measure\n",
    "import matplotlib.pyplot as plt\n",
    "import matplotlib.patches as patches\n",
    "from PIL import Image\n",
    "\n",
    "from sys import platform as sys_pf\n",
    "import warnings\n",
    "warnings.filterwarnings(\"ignore\")"
   ]
  },
  {
   "cell_type": "code",
   "execution_count": 3,
   "id": "0293f4d8-3b89-4603-84ce-5e44462d64f5",
   "metadata": {
    "tags": []
   },
   "outputs": [],
   "source": [
    "#!pip install ultralytics\n",
    "from ultralytics import YOLO"
   ]
  },
  {
   "cell_type": "code",
   "execution_count": null,
   "id": "ba2c08f9-6ff1-4098-9edc-09ac383a2a71",
   "metadata": {},
   "outputs": [],
   "source": [
    "#Insert model\n",
    "model = YOLO('dataset_configuration.yaml')"
   ]
  }
 ],
 "metadata": {
  "kernelspec": {
   "display_name": "Python 3 (ipykernel)",
   "language": "python",
   "name": "python3"
  },
  "language_info": {
   "codemirror_mode": {
    "name": "ipython",
    "version": 3
   },
   "file_extension": ".py",
   "mimetype": "text/x-python",
   "name": "python",
   "nbconvert_exporter": "python",
   "pygments_lexer": "ipython3",
   "version": "3.11.5"
  }
 },
 "nbformat": 4,
 "nbformat_minor": 5
}
